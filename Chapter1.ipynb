{
 "cells": [
  {
   "cell_type": "markdown",
   "metadata": {},
   "source": [
    "## Functions and Relations\n",
    "\n",
    "### The `sort()` function"
   ]
  },
  {
   "cell_type": "code",
   "execution_count": 1,
   "metadata": {},
   "outputs": [
    {
     "name": "stdout",
     "output_type": "stream",
     "text": [
      "[1, 2, 3, 4, 5, 8, 9, 12]\n",
      "['Brandon', 'Elise', 'Eugene', 'Kumar', 'Wyatt']\n"
     ]
    }
   ],
   "source": [
    "numbers = [3, 1, 4, 12, 8, 5, 2, 9]\n",
    "names = ['Wyatt', 'Brandon', 'Kumar', 'Eugene', 'Elise']\n",
    "\n",
    "# Apply the sort() function to the lists\n",
    "numbers.sort()\n",
    "names.sort()\n",
    "\n",
    "# Display the output\n",
    "print(numbers)\n",
    "print(names)"
   ]
  },
  {
   "cell_type": "markdown",
   "metadata": {},
   "source": [
    "In each case, the sort() function sorts the list in ascending order by default (with respect to numerical order or alphabetical order).\n",
    "Furthermore, we can say that sort() applies to any lists and is a function in the mathematical sense. Indeed, it meets all the criteria:\n",
    "1. The domain is all lists that can be sorted.\n",
    "2. The range is the set of all such lists that have been sorted.\n",
    "3. sort() always maps each list that can be inputted to a unique sorted list in the range."
   ]
  },
  {
   "cell_type": "code",
   "execution_count": 2,
   "metadata": {},
   "outputs": [],
   "source": [
    "import random\n",
    "\n",
    "# Set a random seed so the code is reproducible\n",
    "random.seed(1)"
   ]
  },
  {
   "cell_type": "code",
   "execution_count": 3,
   "metadata": {},
   "outputs": [
    {
     "name": "stdout",
     "output_type": "stream",
     "text": [
      "[12, 2, 1, 5, 9, 3, 8, 4]\n",
      "[4, 2, 8, 3, 1, 12, 5, 9]\n",
      "[4, 5, 1, 9, 3, 8, 12, 2]\n",
      "[9, 12, 2, 8, 5, 3, 4, 1]\n",
      "[9, 8, 4, 3, 12, 1, 5, 2]\n"
     ]
    }
   ],
   "source": [
    "# Run the random.shuffle() function 5 times and display the output\n",
    "\n",
    "for i in range(5):\n",
    "    numbers = [3, 1, 4, 12, 8, 5, 2, 9]\n",
    "    random.shuffle(numbers)\n",
    "    print(numbers)"
   ]
  },
  {
   "cell_type": "markdown",
   "metadata": {},
   "source": [
    "In each iteration, the Python function shuffle() takes the same input, but the output is different each time. Therefore, the Python function shuffle() is not a mathematical function. It is, however, a relation that can pair each list with any ordering of itself."
   ]
  }
 ],
 "metadata": {
  "interpreter": {
   "hash": "1570e5394e8ea05bb56a2db82b672ce68967318c2450aea15b6fe4300126b403"
  },
  "kernelspec": {
   "display_name": "Python 3.7.6 64-bit ('base': conda)",
   "language": "python",
   "name": "python3"
  },
  "language_info": {
   "codemirror_mode": {
    "name": "ipython",
    "version": 3
   },
   "file_extension": ".py",
   "mimetype": "text/x-python",
   "name": "python",
   "nbconvert_exporter": "python",
   "pygments_lexer": "ipython3",
   "version": "3.7.6"
  },
  "orig_nbformat": 4
 },
 "nbformat": 4,
 "nbformat_minor": 2
}
